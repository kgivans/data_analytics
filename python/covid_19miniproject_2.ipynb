{
  "nbformat": 4,
  "nbformat_minor": 0,
  "metadata": {
    "colab": {
      "name": "covid-19miniproject 2.ipynb",
      "provenance": []
    },
    "kernelspec": {
      "name": "python3",
      "display_name": "Python 3"
    }
  },
  "cells": [
    {
      "cell_type": "markdown",
      "metadata": {
        "id": "KroomWDxInYf"
      },
      "source": [
        "# Task 1 "
      ]
    },
    {
      "cell_type": "code",
      "metadata": {
        "id": "_0snQj24Y0hC"
      },
      "source": [
        "import numpy as num\r\n",
        "import pandas as pd\r\n",
        "import matplotlib.pyplot as plot\r\n",
        "%matplotlib inline\r\n",
        "import seaborn as sns\r\n",
        "import matplotlib.pyplot as plt\r\n",
        "df = pd.read_csv('https://raw.githubusercontent.com/nytimes/covid-19-data/master/us-counties.csv', index_col=0)"
      ],
      "execution_count": 36,
      "outputs": []
    },
    {
      "cell_type": "markdown",
      "metadata": {
        "id": "HlA-NbhqIq7N"
      },
      "source": [
        "# Task 2"
      ]
    },
    {
      "cell_type": "code",
      "metadata": {
        "id": "eeBpx61o9tjs"
      },
      "source": [
        "df = pd.read_csv('https://raw.githubusercontent.com/nytimes/covid-19-data/master/us-counties.csv', index_col=0)"
      ],
      "execution_count": 35,
      "outputs": []
    },
    {
      "cell_type": "code",
      "metadata": {
        "id": "wR2CLBwBZ0F4"
      },
      "source": [
        "# task 3-Data wrangling and EDA (exploratory data analysis) Within the next few codes, I will be sorting the data so that I make more sense of it and use it for a better analysis. \r\n",
        "# Column 'fips' was removed"
      ],
      "execution_count": null,
      "outputs": []
    },
    {
      "cell_type": "code",
      "metadata": {
        "colab": {
          "base_uri": "https://localhost:8080/",
          "height": 428
        },
        "id": "teaYbpW2aMQs",
        "outputId": "d47d75b5-80d2-4b83-fda5-b4348c373b5d"
      },
      "source": [
        "df"
      ],
      "execution_count": null,
      "outputs": [
        {
          "output_type": "execute_result",
          "data": {
            "text/html": [
              "<div>\n",
              "<style scoped>\n",
              "    .dataframe tbody tr th:only-of-type {\n",
              "        vertical-align: middle;\n",
              "    }\n",
              "\n",
              "    .dataframe tbody tr th {\n",
              "        vertical-align: top;\n",
              "    }\n",
              "\n",
              "    .dataframe thead th {\n",
              "        text-align: right;\n",
              "    }\n",
              "</style>\n",
              "<table border=\"1\" class=\"dataframe\">\n",
              "  <thead>\n",
              "    <tr style=\"text-align: right;\">\n",
              "      <th></th>\n",
              "      <th>county</th>\n",
              "      <th>state</th>\n",
              "      <th>fips</th>\n",
              "      <th>cases</th>\n",
              "      <th>deaths</th>\n",
              "    </tr>\n",
              "    <tr>\n",
              "      <th>date</th>\n",
              "      <th></th>\n",
              "      <th></th>\n",
              "      <th></th>\n",
              "      <th></th>\n",
              "      <th></th>\n",
              "    </tr>\n",
              "  </thead>\n",
              "  <tbody>\n",
              "    <tr>\n",
              "      <th>2020-01-21</th>\n",
              "      <td>Snohomish</td>\n",
              "      <td>Washington</td>\n",
              "      <td>53061.0</td>\n",
              "      <td>1</td>\n",
              "      <td>0.0</td>\n",
              "    </tr>\n",
              "    <tr>\n",
              "      <th>2020-01-22</th>\n",
              "      <td>Snohomish</td>\n",
              "      <td>Washington</td>\n",
              "      <td>53061.0</td>\n",
              "      <td>1</td>\n",
              "      <td>0.0</td>\n",
              "    </tr>\n",
              "    <tr>\n",
              "      <th>2020-01-23</th>\n",
              "      <td>Snohomish</td>\n",
              "      <td>Washington</td>\n",
              "      <td>53061.0</td>\n",
              "      <td>1</td>\n",
              "      <td>0.0</td>\n",
              "    </tr>\n",
              "    <tr>\n",
              "      <th>2020-01-24</th>\n",
              "      <td>Cook</td>\n",
              "      <td>Illinois</td>\n",
              "      <td>17031.0</td>\n",
              "      <td>1</td>\n",
              "      <td>0.0</td>\n",
              "    </tr>\n",
              "    <tr>\n",
              "      <th>2020-01-24</th>\n",
              "      <td>Snohomish</td>\n",
              "      <td>Washington</td>\n",
              "      <td>53061.0</td>\n",
              "      <td>1</td>\n",
              "      <td>0.0</td>\n",
              "    </tr>\n",
              "    <tr>\n",
              "      <th>...</th>\n",
              "      <td>...</td>\n",
              "      <td>...</td>\n",
              "      <td>...</td>\n",
              "      <td>...</td>\n",
              "      <td>...</td>\n",
              "    </tr>\n",
              "    <tr>\n",
              "      <th>2021-01-14</th>\n",
              "      <td>Sweetwater</td>\n",
              "      <td>Wyoming</td>\n",
              "      <td>56037.0</td>\n",
              "      <td>3250</td>\n",
              "      <td>26.0</td>\n",
              "    </tr>\n",
              "    <tr>\n",
              "      <th>2021-01-14</th>\n",
              "      <td>Teton</td>\n",
              "      <td>Wyoming</td>\n",
              "      <td>56039.0</td>\n",
              "      <td>2579</td>\n",
              "      <td>4.0</td>\n",
              "    </tr>\n",
              "    <tr>\n",
              "      <th>2021-01-14</th>\n",
              "      <td>Uinta</td>\n",
              "      <td>Wyoming</td>\n",
              "      <td>56041.0</td>\n",
              "      <td>1794</td>\n",
              "      <td>9.0</td>\n",
              "    </tr>\n",
              "    <tr>\n",
              "      <th>2021-01-14</th>\n",
              "      <td>Washakie</td>\n",
              "      <td>Wyoming</td>\n",
              "      <td>56043.0</td>\n",
              "      <td>836</td>\n",
              "      <td>23.0</td>\n",
              "    </tr>\n",
              "    <tr>\n",
              "      <th>2021-01-14</th>\n",
              "      <td>Weston</td>\n",
              "      <td>Wyoming</td>\n",
              "      <td>56045.0</td>\n",
              "      <td>602</td>\n",
              "      <td>4.0</td>\n",
              "    </tr>\n",
              "  </tbody>\n",
              "</table>\n",
              "<p>930253 rows × 5 columns</p>\n",
              "</div>"
            ],
            "text/plain": [
              "                county       state     fips  cases  deaths\n",
              "date                                                      \n",
              "2020-01-21   Snohomish  Washington  53061.0      1     0.0\n",
              "2020-01-22   Snohomish  Washington  53061.0      1     0.0\n",
              "2020-01-23   Snohomish  Washington  53061.0      1     0.0\n",
              "2020-01-24        Cook    Illinois  17031.0      1     0.0\n",
              "2020-01-24   Snohomish  Washington  53061.0      1     0.0\n",
              "...                ...         ...      ...    ...     ...\n",
              "2021-01-14  Sweetwater     Wyoming  56037.0   3250    26.0\n",
              "2021-01-14       Teton     Wyoming  56039.0   2579     4.0\n",
              "2021-01-14       Uinta     Wyoming  56041.0   1794     9.0\n",
              "2021-01-14    Washakie     Wyoming  56043.0    836    23.0\n",
              "2021-01-14      Weston     Wyoming  56045.0    602     4.0\n",
              "\n",
              "[930253 rows x 5 columns]"
            ]
          },
          "metadata": {
            "tags": []
          },
          "execution_count": 8
        }
      ]
    },
    {
      "cell_type": "code",
      "metadata": {
        "colab": {
          "base_uri": "https://localhost:8080/"
        },
        "id": "AFyG6mxTcux4",
        "outputId": "a0294efd-0f8a-47dc-9020-0e6da82209b7"
      },
      "source": [
        "df.columns"
      ],
      "execution_count": null,
      "outputs": [
        {
          "output_type": "execute_result",
          "data": {
            "text/plain": [
              "Index(['county', 'state', 'fips', 'cases', 'deaths'], dtype='object')"
            ]
          },
          "metadata": {
            "tags": []
          },
          "execution_count": 9
        }
      ]
    },
    {
      "cell_type": "code",
      "metadata": {
        "id": "7UNeDZSodr3L"
      },
      "source": [
        "df.drop(['fips'],axis=1)"
      ],
      "execution_count": null,
      "outputs": []
    },
    {
      "cell_type": "markdown",
      "metadata": {
        "id": "svH31bRfI0Nk"
      },
      "source": [
        "# Task 3- Data wrangling and EDA (exploratory data analysis) I chose New Jersey, Bergen county"
      ]
    },
    {
      "cell_type": "code",
      "metadata": {
        "id": "icr_4vQQpSNh"
      },
      "source": [
        "countydata = pd.read_csv('https://github.com/nytimes/covid-19-data/raw/master/us-counties.csv')"
      ],
      "execution_count": null,
      "outputs": []
    },
    {
      "cell_type": "markdown",
      "metadata": {
        "id": "N2LO6Dwctxor"
      },
      "source": [
        ""
      ]
    },
    {
      "cell_type": "code",
      "metadata": {
        "id": "jl7sm5pBBL_r"
      },
      "source": [
        "localdata = countydata.query('state==\"New Jersey\" & county==\"Bergen\"')\r\n",
        "localdata.to_csv(r'NYTCovidData.csv',index=False)\r\n",
        "localdata['New cases'] = localdata['cases']- localdata['cases'].shift(1).fillna(0)\r\n",
        "localdata['New deaths'] = localdata['deaths']- localdata['deaths'].shift(1).fillna(0)\r\n",
        "localdata = localdata.drop([\"fips\"],axis=1)\r\n",
        "localdata.tail(30)\r\n"
      ],
      "execution_count": null,
      "outputs": []
    },
    {
      "cell_type": "code",
      "metadata": {
        "id": "EtpQCpcIGrcp"
      },
      "source": [
        "Task 4 Understand NY COVID 19 data in last 30 days- filtration-by date and state. I chose New York"
      ],
      "execution_count": null,
      "outputs": []
    },
    {
      "cell_type": "code",
      "metadata": {
        "id": "rGxTv7i6GtkJ",
        "colab": {
          "base_uri": "https://localhost:8080/",
          "height": 1000
        },
        "outputId": "33951ccd-8b72-452b-958b-a72e23554a3c"
      },
      "source": [
        "localdata = countydata.query('state==\"New York\" & county==\"Suffolk\"')\r\n",
        "localdata.to_csv(r'NYTCovidData.csv',index=False)\r\n",
        "localdata['New cases'] = localdata['cases']- localdata['cases'].shift(1).fillna(0)\r\n",
        "localdata['New deaths'] = localdata['deaths']- localdata['deaths'].shift(1).fillna(0)\r\n",
        "localdata = localdata.drop([\"fips\"],axis=1)\r\n",
        "localdata.tail(30)\r\n"
      ],
      "execution_count": 46,
      "outputs": [
        {
          "output_type": "stream",
          "text": [
            "/usr/local/lib/python3.6/dist-packages/ipykernel_launcher.py:3: SettingWithCopyWarning: \n",
            "A value is trying to be set on a copy of a slice from a DataFrame.\n",
            "Try using .loc[row_indexer,col_indexer] = value instead\n",
            "\n",
            "See the caveats in the documentation: https://pandas.pydata.org/pandas-docs/stable/user_guide/indexing.html#returning-a-view-versus-a-copy\n",
            "  This is separate from the ipykernel package so we can avoid doing imports until\n",
            "/usr/local/lib/python3.6/dist-packages/ipykernel_launcher.py:4: SettingWithCopyWarning: \n",
            "A value is trying to be set on a copy of a slice from a DataFrame.\n",
            "Try using .loc[row_indexer,col_indexer] = value instead\n",
            "\n",
            "See the caveats in the documentation: https://pandas.pydata.org/pandas-docs/stable/user_guide/indexing.html#returning-a-view-versus-a-copy\n",
            "  after removing the cwd from sys.path.\n"
          ],
          "name": "stderr"
        },
        {
          "output_type": "execute_result",
          "data": {
            "text/html": [
              "<div>\n",
              "<style scoped>\n",
              "    .dataframe tbody tr th:only-of-type {\n",
              "        vertical-align: middle;\n",
              "    }\n",
              "\n",
              "    .dataframe tbody tr th {\n",
              "        vertical-align: top;\n",
              "    }\n",
              "\n",
              "    .dataframe thead th {\n",
              "        text-align: right;\n",
              "    }\n",
              "</style>\n",
              "<table border=\"1\" class=\"dataframe\">\n",
              "  <thead>\n",
              "    <tr style=\"text-align: right;\">\n",
              "      <th></th>\n",
              "      <th>date</th>\n",
              "      <th>county</th>\n",
              "      <th>state</th>\n",
              "      <th>cases</th>\n",
              "      <th>deaths</th>\n",
              "      <th>New cases</th>\n",
              "      <th>New deaths</th>\n",
              "    </tr>\n",
              "  </thead>\n",
              "  <tbody>\n",
              "    <tr>\n",
              "      <th>834787</th>\n",
              "      <td>2020-12-16</td>\n",
              "      <td>Suffolk</td>\n",
              "      <td>New York</td>\n",
              "      <td>77681</td>\n",
              "      <td>2139.0</td>\n",
              "      <td>1056.0</td>\n",
              "      <td>7.0</td>\n",
              "    </tr>\n",
              "    <tr>\n",
              "      <th>838033</th>\n",
              "      <td>2020-12-17</td>\n",
              "      <td>Suffolk</td>\n",
              "      <td>New York</td>\n",
              "      <td>78850</td>\n",
              "      <td>2149.0</td>\n",
              "      <td>1169.0</td>\n",
              "      <td>10.0</td>\n",
              "    </tr>\n",
              "    <tr>\n",
              "      <th>841278</th>\n",
              "      <td>2020-12-18</td>\n",
              "      <td>Suffolk</td>\n",
              "      <td>New York</td>\n",
              "      <td>80047</td>\n",
              "      <td>2153.0</td>\n",
              "      <td>1197.0</td>\n",
              "      <td>4.0</td>\n",
              "    </tr>\n",
              "    <tr>\n",
              "      <th>844524</th>\n",
              "      <td>2020-12-19</td>\n",
              "      <td>Suffolk</td>\n",
              "      <td>New York</td>\n",
              "      <td>80989</td>\n",
              "      <td>2163.0</td>\n",
              "      <td>942.0</td>\n",
              "      <td>10.0</td>\n",
              "    </tr>\n",
              "    <tr>\n",
              "      <th>847769</th>\n",
              "      <td>2020-12-20</td>\n",
              "      <td>Suffolk</td>\n",
              "      <td>New York</td>\n",
              "      <td>82134</td>\n",
              "      <td>2172.0</td>\n",
              "      <td>1145.0</td>\n",
              "      <td>9.0</td>\n",
              "    </tr>\n",
              "    <tr>\n",
              "      <th>851014</th>\n",
              "      <td>2020-12-21</td>\n",
              "      <td>Suffolk</td>\n",
              "      <td>New York</td>\n",
              "      <td>83112</td>\n",
              "      <td>2185.0</td>\n",
              "      <td>978.0</td>\n",
              "      <td>13.0</td>\n",
              "    </tr>\n",
              "    <tr>\n",
              "      <th>854259</th>\n",
              "      <td>2020-12-22</td>\n",
              "      <td>Suffolk</td>\n",
              "      <td>New York</td>\n",
              "      <td>84146</td>\n",
              "      <td>2197.0</td>\n",
              "      <td>1034.0</td>\n",
              "      <td>12.0</td>\n",
              "    </tr>\n",
              "    <tr>\n",
              "      <th>857504</th>\n",
              "      <td>2020-12-23</td>\n",
              "      <td>Suffolk</td>\n",
              "      <td>New York</td>\n",
              "      <td>85385</td>\n",
              "      <td>2211.0</td>\n",
              "      <td>1239.0</td>\n",
              "      <td>14.0</td>\n",
              "    </tr>\n",
              "    <tr>\n",
              "      <th>860749</th>\n",
              "      <td>2020-12-24</td>\n",
              "      <td>Suffolk</td>\n",
              "      <td>New York</td>\n",
              "      <td>86715</td>\n",
              "      <td>2226.0</td>\n",
              "      <td>1330.0</td>\n",
              "      <td>15.0</td>\n",
              "    </tr>\n",
              "    <tr>\n",
              "      <th>863994</th>\n",
              "      <td>2020-12-25</td>\n",
              "      <td>Suffolk</td>\n",
              "      <td>New York</td>\n",
              "      <td>87985</td>\n",
              "      <td>2236.0</td>\n",
              "      <td>1270.0</td>\n",
              "      <td>10.0</td>\n",
              "    </tr>\n",
              "    <tr>\n",
              "      <th>867239</th>\n",
              "      <td>2020-12-26</td>\n",
              "      <td>Suffolk</td>\n",
              "      <td>New York</td>\n",
              "      <td>89257</td>\n",
              "      <td>2243.0</td>\n",
              "      <td>1272.0</td>\n",
              "      <td>7.0</td>\n",
              "    </tr>\n",
              "    <tr>\n",
              "      <th>870484</th>\n",
              "      <td>2020-12-27</td>\n",
              "      <td>Suffolk</td>\n",
              "      <td>New York</td>\n",
              "      <td>90142</td>\n",
              "      <td>2251.0</td>\n",
              "      <td>885.0</td>\n",
              "      <td>8.0</td>\n",
              "    </tr>\n",
              "    <tr>\n",
              "      <th>873729</th>\n",
              "      <td>2020-12-28</td>\n",
              "      <td>Suffolk</td>\n",
              "      <td>New York</td>\n",
              "      <td>91179</td>\n",
              "      <td>2262.0</td>\n",
              "      <td>1037.0</td>\n",
              "      <td>11.0</td>\n",
              "    </tr>\n",
              "    <tr>\n",
              "      <th>876974</th>\n",
              "      <td>2020-12-29</td>\n",
              "      <td>Suffolk</td>\n",
              "      <td>New York</td>\n",
              "      <td>92391</td>\n",
              "      <td>2274.0</td>\n",
              "      <td>1212.0</td>\n",
              "      <td>12.0</td>\n",
              "    </tr>\n",
              "    <tr>\n",
              "      <th>880219</th>\n",
              "      <td>2020-12-30</td>\n",
              "      <td>Suffolk</td>\n",
              "      <td>New York</td>\n",
              "      <td>94041</td>\n",
              "      <td>2286.0</td>\n",
              "      <td>1650.0</td>\n",
              "      <td>12.0</td>\n",
              "    </tr>\n",
              "    <tr>\n",
              "      <th>883464</th>\n",
              "      <td>2020-12-31</td>\n",
              "      <td>Suffolk</td>\n",
              "      <td>New York</td>\n",
              "      <td>96057</td>\n",
              "      <td>2299.0</td>\n",
              "      <td>2016.0</td>\n",
              "      <td>13.0</td>\n",
              "    </tr>\n",
              "    <tr>\n",
              "      <th>886709</th>\n",
              "      <td>2021-01-01</td>\n",
              "      <td>Suffolk</td>\n",
              "      <td>New York</td>\n",
              "      <td>97931</td>\n",
              "      <td>2311.0</td>\n",
              "      <td>1874.0</td>\n",
              "      <td>12.0</td>\n",
              "    </tr>\n",
              "    <tr>\n",
              "      <th>889956</th>\n",
              "      <td>2021-01-02</td>\n",
              "      <td>Suffolk</td>\n",
              "      <td>New York</td>\n",
              "      <td>99717</td>\n",
              "      <td>2328.0</td>\n",
              "      <td>1786.0</td>\n",
              "      <td>17.0</td>\n",
              "    </tr>\n",
              "    <tr>\n",
              "      <th>893202</th>\n",
              "      <td>2021-01-03</td>\n",
              "      <td>Suffolk</td>\n",
              "      <td>New York</td>\n",
              "      <td>101233</td>\n",
              "      <td>2341.0</td>\n",
              "      <td>1516.0</td>\n",
              "      <td>13.0</td>\n",
              "    </tr>\n",
              "    <tr>\n",
              "      <th>896448</th>\n",
              "      <td>2021-01-04</td>\n",
              "      <td>Suffolk</td>\n",
              "      <td>New York</td>\n",
              "      <td>102465</td>\n",
              "      <td>2361.0</td>\n",
              "      <td>1232.0</td>\n",
              "      <td>20.0</td>\n",
              "    </tr>\n",
              "    <tr>\n",
              "      <th>899693</th>\n",
              "      <td>2021-01-05</td>\n",
              "      <td>Suffolk</td>\n",
              "      <td>New York</td>\n",
              "      <td>104019</td>\n",
              "      <td>2376.0</td>\n",
              "      <td>1554.0</td>\n",
              "      <td>15.0</td>\n",
              "    </tr>\n",
              "    <tr>\n",
              "      <th>902938</th>\n",
              "      <td>2021-01-06</td>\n",
              "      <td>Suffolk</td>\n",
              "      <td>New York</td>\n",
              "      <td>106061</td>\n",
              "      <td>2388.0</td>\n",
              "      <td>2042.0</td>\n",
              "      <td>12.0</td>\n",
              "    </tr>\n",
              "    <tr>\n",
              "      <th>906184</th>\n",
              "      <td>2021-01-07</td>\n",
              "      <td>Suffolk</td>\n",
              "      <td>New York</td>\n",
              "      <td>108255</td>\n",
              "      <td>2410.0</td>\n",
              "      <td>2194.0</td>\n",
              "      <td>22.0</td>\n",
              "    </tr>\n",
              "    <tr>\n",
              "      <th>909429</th>\n",
              "      <td>2021-01-08</td>\n",
              "      <td>Suffolk</td>\n",
              "      <td>New York</td>\n",
              "      <td>110209</td>\n",
              "      <td>2423.0</td>\n",
              "      <td>1954.0</td>\n",
              "      <td>13.0</td>\n",
              "    </tr>\n",
              "    <tr>\n",
              "      <th>912674</th>\n",
              "      <td>2021-01-09</td>\n",
              "      <td>Suffolk</td>\n",
              "      <td>New York</td>\n",
              "      <td>112211</td>\n",
              "      <td>2438.0</td>\n",
              "      <td>2002.0</td>\n",
              "      <td>15.0</td>\n",
              "    </tr>\n",
              "    <tr>\n",
              "      <th>915919</th>\n",
              "      <td>2021-01-10</td>\n",
              "      <td>Suffolk</td>\n",
              "      <td>New York</td>\n",
              "      <td>113943</td>\n",
              "      <td>2453.0</td>\n",
              "      <td>1732.0</td>\n",
              "      <td>15.0</td>\n",
              "    </tr>\n",
              "    <tr>\n",
              "      <th>919164</th>\n",
              "      <td>2021-01-11</td>\n",
              "      <td>Suffolk</td>\n",
              "      <td>New York</td>\n",
              "      <td>115489</td>\n",
              "      <td>2466.0</td>\n",
              "      <td>1546.0</td>\n",
              "      <td>13.0</td>\n",
              "    </tr>\n",
              "    <tr>\n",
              "      <th>922409</th>\n",
              "      <td>2021-01-12</td>\n",
              "      <td>Suffolk</td>\n",
              "      <td>New York</td>\n",
              "      <td>117156</td>\n",
              "      <td>2487.0</td>\n",
              "      <td>1667.0</td>\n",
              "      <td>21.0</td>\n",
              "    </tr>\n",
              "    <tr>\n",
              "      <th>925655</th>\n",
              "      <td>2021-01-13</td>\n",
              "      <td>Suffolk</td>\n",
              "      <td>New York</td>\n",
              "      <td>118829</td>\n",
              "      <td>2502.0</td>\n",
              "      <td>1673.0</td>\n",
              "      <td>15.0</td>\n",
              "    </tr>\n",
              "    <tr>\n",
              "      <th>928900</th>\n",
              "      <td>2021-01-14</td>\n",
              "      <td>Suffolk</td>\n",
              "      <td>New York</td>\n",
              "      <td>120416</td>\n",
              "      <td>2524.0</td>\n",
              "      <td>1587.0</td>\n",
              "      <td>22.0</td>\n",
              "    </tr>\n",
              "  </tbody>\n",
              "</table>\n",
              "</div>"
            ],
            "text/plain": [
              "              date   county     state   cases  deaths  New cases  New deaths\n",
              "834787  2020-12-16  Suffolk  New York   77681  2139.0     1056.0         7.0\n",
              "838033  2020-12-17  Suffolk  New York   78850  2149.0     1169.0        10.0\n",
              "841278  2020-12-18  Suffolk  New York   80047  2153.0     1197.0         4.0\n",
              "844524  2020-12-19  Suffolk  New York   80989  2163.0      942.0        10.0\n",
              "847769  2020-12-20  Suffolk  New York   82134  2172.0     1145.0         9.0\n",
              "851014  2020-12-21  Suffolk  New York   83112  2185.0      978.0        13.0\n",
              "854259  2020-12-22  Suffolk  New York   84146  2197.0     1034.0        12.0\n",
              "857504  2020-12-23  Suffolk  New York   85385  2211.0     1239.0        14.0\n",
              "860749  2020-12-24  Suffolk  New York   86715  2226.0     1330.0        15.0\n",
              "863994  2020-12-25  Suffolk  New York   87985  2236.0     1270.0        10.0\n",
              "867239  2020-12-26  Suffolk  New York   89257  2243.0     1272.0         7.0\n",
              "870484  2020-12-27  Suffolk  New York   90142  2251.0      885.0         8.0\n",
              "873729  2020-12-28  Suffolk  New York   91179  2262.0     1037.0        11.0\n",
              "876974  2020-12-29  Suffolk  New York   92391  2274.0     1212.0        12.0\n",
              "880219  2020-12-30  Suffolk  New York   94041  2286.0     1650.0        12.0\n",
              "883464  2020-12-31  Suffolk  New York   96057  2299.0     2016.0        13.0\n",
              "886709  2021-01-01  Suffolk  New York   97931  2311.0     1874.0        12.0\n",
              "889956  2021-01-02  Suffolk  New York   99717  2328.0     1786.0        17.0\n",
              "893202  2021-01-03  Suffolk  New York  101233  2341.0     1516.0        13.0\n",
              "896448  2021-01-04  Suffolk  New York  102465  2361.0     1232.0        20.0\n",
              "899693  2021-01-05  Suffolk  New York  104019  2376.0     1554.0        15.0\n",
              "902938  2021-01-06  Suffolk  New York  106061  2388.0     2042.0        12.0\n",
              "906184  2021-01-07  Suffolk  New York  108255  2410.0     2194.0        22.0\n",
              "909429  2021-01-08  Suffolk  New York  110209  2423.0     1954.0        13.0\n",
              "912674  2021-01-09  Suffolk  New York  112211  2438.0     2002.0        15.0\n",
              "915919  2021-01-10  Suffolk  New York  113943  2453.0     1732.0        15.0\n",
              "919164  2021-01-11  Suffolk  New York  115489  2466.0     1546.0        13.0\n",
              "922409  2021-01-12  Suffolk  New York  117156  2487.0     1667.0        21.0\n",
              "925655  2021-01-13  Suffolk  New York  118829  2502.0     1673.0        15.0\n",
              "928900  2021-01-14  Suffolk  New York  120416  2524.0     1587.0        22.0"
            ]
          },
          "metadata": {
            "tags": []
          },
          "execution_count": 46
        }
      ]
    },
    {
      "cell_type": "code",
      "metadata": {
        "id": "pY7QudZOHnUa",
        "colab": {
          "base_uri": "https://localhost:8080/",
          "height": 458
        },
        "outputId": "b5c784ca-40eb-41f0-d27c-f1b69def6ce3"
      },
      "source": [
        "sns.jointplot(x='date',y='New cases',data=localdata)"
      ],
      "execution_count": 47,
      "outputs": [
        {
          "output_type": "execute_result",
          "data": {
            "text/plain": [
              "<seaborn.axisgrid.JointGrid at 0x7f9c9ec789b0>"
            ]
          },
          "metadata": {
            "tags": []
          },
          "execution_count": 47
        },
        {
          "output_type": "display_data",
          "data": {
            "image/png": "[encoded data removed]",
            "text/plain": [
              "<Figure size 432x432 with 3 Axes>"
            ]
          },
          "metadata": {
            "tags": [],
            "needs_background": "light"
          }
        }
      ]
    },
    {
      "cell_type": "code",
      "metadata": {
        "id": "nzyXJrl_H4lc",
        "colab": {
          "base_uri": "https://localhost:8080/",
          "height": 458
        },
        "outputId": "557374f8-8a89-4104-bdbd-177da4ff8ad5"
      },
      "source": [
        "sns.jointplot(x='date',y='New deaths',data=localdata)"
      ],
      "execution_count": 48,
      "outputs": [
        {
          "output_type": "execute_result",
          "data": {
            "text/plain": [
              "<seaborn.axisgrid.JointGrid at 0x7f9c9f1beba8>"
            ]
          },
          "metadata": {
            "tags": []
          },
          "execution_count": 48
        },
        {
          "output_type": "display_data",
          "data": {
            "image/png": "[encoded data removed]",
            "text/plain": [
              "<Figure size 432x432 with 3 Axes>"
            ]
          },
          "metadata": {
            "tags": [],
            "needs_background": "light"
          }
        }
      ]
    },
    {
      "cell_type": "code",
      "metadata": {
        "id": "99neifVHpe62"
      },
      "source": [
        "Task 5 - Comparing COVID 19 data from different states 2 or 3 states, no more than 5 and compare the numbers\r\n"
      ],
      "execution_count": null,
      "outputs": []
    },
    {
      "cell_type": "code",
      "metadata": {
        "colab": {
          "base_uri": "https://localhost:8080/",
          "height": 298
        },
        "id": "s8Q67Vm94HK2",
        "outputId": "c5aa84e2-9cd0-4b09-b7fb-9906b43d4bd8"
      },
      "source": [
        "states = ['New York', 'New Jersey', 'California', 'Flordia', 'Chicago']\r\n",
        "for s in states:\r\n",
        "  df_= df.query(f\"state == '{s}'\").reset_index()\r\n",
        "  plt.plot(df_['cases'], label=s)\r\n",
        "  \r\n",
        "plt.title('States and Total Cases' )\r\n",
        "plt.legend()"
      ],
      "execution_count": 86,
      "outputs": [
        {
          "output_type": "execute_result",
          "data": {
            "text/plain": [
              "<matplotlib.legend.Legend at 0x7f9c9d66cc50>"
            ]
          },
          "metadata": {
            "tags": []
          },
          "execution_count": 86
        },
        {
          "output_type": "display_data",
          "data": {
            "image/png": "[encoded data removed]",
            "text/plain": [
              "<Figure size 432x288 with 1 Axes>"
            ]
          },
          "metadata": {
            "tags": [],
            "needs_background": "light"
          }
        }
      ]
    },
    {
      "cell_type": "code",
      "metadata": {
        "id": "J7YwbQuqKbok"
      },
      "source": [
        "Task 6"
      ],
      "execution_count": null,
      "outputs": []
    },
    {
      "cell_type": "code",
      "metadata": {
        "id": "adOFMy7sFseE"
      },
      "source": [
        "From the visualization from task 4, New York has high number for both new cases and new deaths. While for task 5, when comapring 5 different states including New York, \r\n",
        "California had the most cases of Covid-19 in 2020 followed by New York and New Jersey."
      ],
      "execution_count": null,
      "outputs": []
    },
    {
      "cell_type": "code",
      "metadata": {
        "id": "6L6nvWKDFGEQ"
      },
      "source": [
        ""
      ],
      "execution_count": null,
      "outputs": []
    }
  ]
}