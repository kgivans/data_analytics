{
  "nbformat": 4,
  "nbformat_minor": 0,
  "metadata": {
    "colab": {
      "name": "Copy of mini project 1.ipynb",
      "provenance": []
    },
    "kernelspec": {
      "name": "python3",
      "display_name": "Python 3"
    }
  },
  "cells": [
    {
      "cell_type": "code",
      "metadata": {
        "colab": {
          "base_uri": "https://localhost:8080/"
        },
        "id": "LGN247BD9669",
        "outputId": "167f2991-de52-49dd-8896-86078f887204"
      },
      "source": [
        "message = ('Hi Jessica could you provide me with a number?')\r\n",
        "print(message)"
      ],
      "execution_count": null,
      "outputs": [
        {
          "output_type": "stream",
          "text": [
            "Hi Jessica could you provide me with a number?\n"
          ],
          "name": "stdout"
        }
      ]
    },
    {
      "cell_type": "code",
      "metadata": {
        "colab": {
          "base_uri": "https://localhost:8080/"
        },
        "id": "GIIbtvV6-3Of",
        "outputId": "70abb7ac-ec6b-47db-e177-a1110cd50dd4"
      },
      "source": [
        "user_message = ('Hi K, sure 13')\r\n",
        "print(user_message)"
      ],
      "execution_count": null,
      "outputs": [
        {
          "output_type": "stream",
          "text": [
            "Hi K, sure 13\n"
          ],
          "name": "stdout"
        }
      ]
    },
    {
      "cell_type": "code",
      "metadata": {
        "colab": {
          "base_uri": "https://localhost:8080/"
        },
        "id": "EZfjwTOu_JTV",
        "outputId": "65b41bcb-7bfd-4a7d-f06f-1999baefa28d"
      },
      "source": [
        "message = ('lucky number 13! thank you Jess')\r\n",
        "print(message)"
      ],
      "execution_count": null,
      "outputs": [
        {
          "output_type": "stream",
          "text": [
            "lucky number 13! thank you Jess\n"
          ],
          "name": "stdout"
        }
      ]
    },
    {
      "cell_type": "code",
      "metadata": {
        "colab": {
          "base_uri": "https://localhost:8080/"
        },
        "id": "MN42jQTAAxHv",
        "outputId": "519d941a-ce46-4a16-a655-1adc8d96eeef"
      },
      "source": [
        "message = ('Jessica, what is the value of 13 divided by 2?')\r\n",
        "print(message)"
      ],
      "execution_count": null,
      "outputs": [
        {
          "output_type": "stream",
          "text": [
            "Jessica, what is the value of 13 divided by 2?\n"
          ],
          "name": "stdout"
        }
      ]
    },
    {
      "cell_type": "code",
      "metadata": {
        "colab": {
          "base_uri": "https://localhost:8080/"
        },
        "id": "UZdQiC41BY36",
        "outputId": "e0392b2c-8cc7-4c70-cf67-6ad09a5cf7cb"
      },
      "source": [
        "message = ('K, when you divide 13 by 2, the answer will be 6.5')\r\n",
        "x = 13\r\n",
        "print(x/2)"
      ],
      "execution_count": null,
      "outputs": [
        {
          "output_type": "stream",
          "text": [
            "6.5\n"
          ],
          "name": "stdout"
        }
      ]
    },
    {
      "cell_type": "code",
      "metadata": {
        "colab": {
          "base_uri": "https://localhost:8080/"
        },
        "id": "xp8JlGMtFVD8",
        "outputId": "0617a1d3-ff27-4fcd-c3c9-6ab2190b97b3"
      },
      "source": [
        "message = ('correct Jess. But what if you had given me an even number? What would have been the value when divided by 2?')\r\n",
        "print(message)"
      ],
      "execution_count": null,
      "outputs": [
        {
          "output_type": "stream",
          "text": [
            "correct Jess. But what if you had given me an even number? What would have been the value when divided by 2?\n"
          ],
          "name": "stdout"
        }
      ]
    },
    {
      "cell_type": "code",
      "metadata": {
        "colab": {
          "base_uri": "https://localhost:8080/"
        },
        "id": "oJwTqc9LIYv7",
        "outputId": "438922e0-0290-40cc-9d1a-d6d8df17aab2"
      },
      "source": [
        "message = ('K, number 12. When divided by 2 it yeilds 6')\r\n",
        "print(message)"
      ],
      "execution_count": null,
      "outputs": [
        {
          "output_type": "stream",
          "text": [
            "K, number 12. When divided by 2 it yeilds 6\n"
          ],
          "name": "stdout"
        }
      ]
    },
    {
      "cell_type": "code",
      "metadata": {
        "colab": {
          "base_uri": "https://localhost:8080/"
        },
        "id": "Kz5-D9M7bQWO",
        "outputId": "6d14077f-070a-48a9-f10d-d3f0233cdfe1"
      },
      "source": [
        "x=11\r\n",
        "if x % 2 == 0:\r\n",
        "  print('the number is even')\r\n",
        "else:\r\n",
        "  print('the number is odd')"
      ],
      "execution_count": null,
      "outputs": [
        {
          "output_type": "stream",
          "text": [
            "the number is odd\n"
          ],
          "name": "stdout"
        }
      ]
    },
    {
      "cell_type": "code",
      "metadata": {
        "id": "zwme-yNalt9A"
      },
      "source": [
        ""
      ],
      "execution_count": null,
      "outputs": []
    }
  ]
}